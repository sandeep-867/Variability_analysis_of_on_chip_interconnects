{
 "cells": [
  {
   "cell_type": "code",
   "execution_count": 1,
   "id": "f7e6289d",
   "metadata": {},
   "outputs": [],
   "source": [
    "import pandas as pd\n",
    "import numpy as np\n",
    "import random\n",
    "import datetime as dt\n",
    "from matplotlib import pyplot as plt\n",
    "import seaborn as sns\n",
    "from sklearn.model_selection import train_test_split\n",
    "from sklearn.metrics import r2_score\n",
    "\n",
    "np.random.seed(42)"
   ]
  },
  {
   "cell_type": "code",
   "execution_count": 2,
   "id": "07b65340",
   "metadata": {},
   "outputs": [],
   "source": [
    "class Scaler():\n",
    "    # hint: https://machinelearningmastery.com/standardscaler-and-minmaxscaler-transforms-in-python/\n",
    "    def __init__(self):\n",
    "        print(\"\")\n",
    "    def __call__(self,features, is_train=False):\n",
    "        result = features.copy()\n",
    "        for feature_name in features.columns:\n",
    "            max_value = features[feature_name].max()\n",
    "            min_value = features[feature_name].min()\n",
    "            result[feature_name] = (features[feature_name] - min_value)/(max_value - min_value)\n",
    "        return result\n"
   ]
  },
  {
   "cell_type": "code",
   "execution_count": 3,
   "id": "21921838",
   "metadata": {},
   "outputs": [],
   "source": [
    "def get_features(csv_path,is_train=False,scaler=None):\n",
    "    df = pd.read_csv(csv_path)\n",
    "\n",
    "    # Normalizing\n",
    "    df = scaler(df)\n",
    "    a = ['Leff', 'Vth', 'Tox', 'Vdd'] \n",
    "    for i in a:\n",
    "        mu=df[i].mean()\n",
    "        for k in range(1,2):\n",
    "            sigma=k\n",
    "            df[i+'_'+str(k)] = np.exp(-((df[i]-mu)**2)/sigma**2) \n",
    "            \n",
    "    a = df.columns\n",
    "    for i in a:\n",
    "        for k in a:\n",
    "            df[i+'_'+k] = df[i] * df[k]\n",
    "            \n",
    "#     plt.figure(figsize = (40,40))\n",
    "#     sns.heatmap(df.corr(), annot=True)\n",
    "#     plt.show()\n",
    "\n",
    "    X = df.drop(['Power dissipation (W)', 'Delay (s)'], axis = 1)\n",
    "    y = df['Delay (s)']\n",
    "    return train_test_split(X, y, test_size=0.30)"
   ]
  },
  {
   "cell_type": "code",
   "execution_count": 4,
   "id": "6d40e617",
   "metadata": {},
   "outputs": [],
   "source": [
    "def analytical_solution(feature_matrix, targets, C=0.0):\n",
    "    '''\n",
    "    Description:\n",
    "    implement analytical solution to obtain weights\n",
    "    as described in lecture 5d\n",
    "    return value: numpy array\n",
    "    '''\n",
    "\n",
    "    '''\n",
    "    Arguments:\n",
    "    feature_matrix: numpy array of shape m x n\n",
    "    targets: numpy array of shape m x 1\n",
    "    '''\n",
    "    ip=feature_matrix\n",
    "    op=targets\n",
    "    cp=ip.transpose()\n",
    "    term = np.matmul(cp,np.asarray(ip))\n",
    "    iden = np.identity(term.shape[0], dtype = float)\n",
    "    term = term + C * iden\n",
    "    w1=np.linalg.pinv(term)\n",
    "    w2=np.matmul(cp,op)\n",
    "    w=np.matmul(w1,w2)\n",
    "    return w "
   ]
  },
  {
   "cell_type": "code",
   "execution_count": 5,
   "id": "a9efe169",
   "metadata": {},
   "outputs": [],
   "source": [
    "def get_predictions(feature_matrix, weights):\n",
    "    '''\n",
    "    description\n",
    "    return predictions given feature matrix and weights\n",
    "    return value: numpy array\n",
    "    '''\n",
    "\n",
    "    '''\n",
    "    Arguments:\n",
    "    feature_matrix: numpy array of shape m x n\n",
    "    weights: numpy array of shape n x 1\n",
    "    '''\n",
    "\n",
    "    p=np.matmul(feature_matrix,weights)\n",
    "    #print(\"Get pred: feature_matrix =\",feature_matrix.shape, \", weights =\", weights.shape)\n",
    "    return p"
   ]
  },
  {
   "cell_type": "code",
   "execution_count": 6,
   "id": "6b5de388",
   "metadata": {},
   "outputs": [],
   "source": [
    "def mse_loss(feature_matrix, weights, targets):\n",
    "    '''\n",
    "    Description:\n",
    "    Implement mean squared error loss function\n",
    "    return value: float (scalar)\n",
    "    '''\n",
    "\n",
    "    '''\n",
    "    Arguments:\n",
    "    feature_matrix: numpy array of shape m x n\n",
    "    weights: numpy array of shape n x 1\n",
    "    targets: numpy array of shape m x 1\n",
    "    '''\n",
    "    pred=get_predictions(feature_matrix,weights)\n",
    "    #print(pred.shape, targets.shape)\n",
    "\n",
    "    r2 = r2_score(pred, targets)\n",
    "    print('r2 score is', r2,\"\\n\")\n",
    "\n",
    "    loss = targets - pred\n",
    "    square=np.square(loss)  #square each term\n",
    "    mse=np.sum(square)      # sum each term\n",
    "    mse = mse/feature_matrix.shape[0]\n",
    "    return mse"
   ]
  },
  {
   "cell_type": "code",
   "execution_count": 7,
   "id": "9edd9175",
   "metadata": {},
   "outputs": [],
   "source": [
    "def l2_regularizer(weights):\n",
    "    '''\n",
    "    Description:\n",
    "    Implement l2 regularizer\n",
    "    return value: float (scalar)\n",
    "    '''\n",
    "\n",
    "    '''\n",
    "    Arguments\n",
    "    weights: numpy array of shape n x 1\n",
    "    '''\n",
    "    return (2*np.linalg.norm(weights, ord=None, axis=None, keepdims=False))"
   ]
  },
  {
   "cell_type": "code",
   "execution_count": 8,
   "id": "009c6d49",
   "metadata": {},
   "outputs": [],
   "source": [
    "def loss_fn(feature_matrix, weights, targets, C=0.0):\n",
    "    '''\n",
    "    Description:\n",
    "    compute the loss function: mse_loss + C * l2_regularizer\n",
    "    '''\n",
    "\n",
    "    '''\n",
    "    Arguments:\n",
    "    feature_matrix: numpy array of shape m x n\n",
    "    weights: numpy array of shape n x 1\n",
    "    targets: numpy array of shape m x 1\n",
    "    C: weight for regularization penalty\n",
    "    return value: float (scalar)\n",
    "    '''\n",
    "    mean_squared_error = mse_loss(feature_matrix,weights,targets)\n",
    "    regularized_loss = mean_squared_error + C * l2_regularizer(weights)\n",
    "    return regularized_loss"
   ]
  },
  {
   "cell_type": "code",
   "execution_count": 9,
   "id": "186a31b1",
   "metadata": {},
   "outputs": [],
   "source": [
    "def compute_gradients(feature_matrix, weights, targets, C=0.0):\n",
    "    '''\n",
    "    Description:\n",
    "    compute gradient of weights w.r.t. the loss_fn function implemented above\n",
    "    '''\n",
    "\n",
    "    '''\n",
    "    Arguments:\n",
    "    feature_matrix: numpy array of shape m x n\n",
    "    weights: numpy array of shape n x 1\n",
    "    targets: numpy array of shape m x 1\n",
    "    C: weight for regularization penalty\n",
    "    return value: numpy array\n",
    "    '''\n",
    "    #print(\"0.feature_matrix =\", feature_matrix.shape)\n",
    "    #print(\"1.targets =\", targets.shape)\n",
    "    #print(targets)\n",
    "    transposed_x = np.transpose(feature_matrix)\n",
    "    first = np.matmul(transposed_x, targets)\n",
    "    #print(\"1.first =\", first.shape[0])\n",
    "    first = first.reshape((first.shape[0], 1))\n",
    "    second = np.matmul(transposed_x, feature_matrix)\n",
    "    #print(\"2.second =\", second.shape)\n",
    "    second = np.matmul(second, weights)\n",
    "    #print(\"3.second =\", second.shape)\n",
    "    #print(first)\n",
    "    #print(second)\n",
    "    first = first - second\n",
    "    #print(\"4.first =\", first.shape)\n",
    "    first = first * -2\n",
    "    reg_term = l2_regularizer(weights) * C  \n",
    "    return (first + reg_term)\n"
   ]
  },
  {
   "cell_type": "code",
   "execution_count": 10,
   "id": "c055450b",
   "metadata": {},
   "outputs": [],
   "source": [
    "def sample_random_batch(feature_matrix, targets, batch_size):\n",
    "    '''\n",
    "    Description\n",
    "    Batching -- Randomly sample batch_size number of elements from feature_matrix and targets\n",
    "    return a tuple: (sampled_feature_matrix, sampled_targets)\n",
    "    sampled_feature_matrix: numpy array of shape batch_size x n\n",
    "    sampled_targets: numpy array of shape batch_size x 1\n",
    "    '''\n",
    "\n",
    "    '''\n",
    "    Arguments:\n",
    "    feature_matrix: numpy array of shape m x n\n",
    "    targets: numpy array of shape m x 1\n",
    "    batch_size: int\n",
    "    '''    \n",
    "    idx = random.sample(range(0, feature_matrix.shape[0]), batch_size)\n",
    "    sampled_feature_matrix = feature_matrix[idx]\n",
    "    sampled_targets = targets[idx]    \n",
    "    return (sampled_feature_matrix, sampled_targets)"
   ]
  },
  {
   "cell_type": "code",
   "execution_count": 11,
   "id": "03de9448",
   "metadata": {},
   "outputs": [],
   "source": [
    "def initialize_weights(n):\n",
    "    '''\n",
    "    Description:\n",
    "    initialize weights to some initial values\n",
    "    return value: numpy array of shape n x 1\n",
    "    '''\n",
    "\n",
    "    '''\n",
    "    Arguments\n",
    "    n: int\n",
    "    '''\n",
    "    w = np.ones((n, 1))\n",
    "    return w"
   ]
  },
  {
   "cell_type": "code",
   "execution_count": 12,
   "id": "332c0360",
   "metadata": {},
   "outputs": [],
   "source": [
    "def update_weights(weights, gradients, lr):\n",
    "    '''\n",
    "    Description:\n",
    "    update weights using gradient descent\n",
    "    retuen value: numpy matrix of shape nx1\n",
    "    '''\n",
    "\n",
    "    '''\n",
    "    Arguments:\n",
    "    # weights: numpy matrix of shape nx1\n",
    "    # gradients: numpy matrix of shape nx1\n",
    "    # lr: learning rate\n",
    "    '''    \n",
    "\n",
    "    weights = weights - (lr * gradients)\n",
    "    return weights"
   ]
  },
  {
   "cell_type": "code",
   "execution_count": 13,
   "id": "72d47288",
   "metadata": {},
   "outputs": [],
   "source": [
    "def early_stopping(dev_loss_history, patience):\n",
    "    # allowed to modify argument list as per your need\n",
    "    # return True or False\n",
    "\n",
    "    if len(dev_loss_history) < patience:\n",
    "        return False\n",
    "\n",
    "    min_dev_loss = min(dev_loss_history)\n",
    "    idx_min = dev_loss_history.index(min_dev_loss)\n",
    "\n",
    "    if len(dev_loss_history) - idx_min > patience:\n",
    "        return True\n",
    "    "
   ]
  },
  {
   "cell_type": "code",
   "execution_count": 14,
   "id": "bb747b64",
   "metadata": {},
   "outputs": [],
   "source": [
    "def plot_error_historgam(feature_matrix, weights, targets):\n",
    "    '''\n",
    "    Description:\n",
    "    plot error hist \n",
    "    '''\n",
    "\n",
    "    '''\n",
    "    Arguments:\n",
    "    # you are allowed to change the argument list any way you like \n",
    "    '''  \n",
    "    pred=get_predictions(feature_matrix,weights)\n",
    "\n",
    "    loss = targets - pred\n",
    "  \n",
    "    plt.figure()\n",
    "    plt.xlabel('Errors = targets - outputs')\n",
    "    plt.ylabel('Instances')\n",
    "    plt.hist( loss, edgecolor=\"red\", bins = 20 )\n",
    "\n",
    "    plt.show()"
   ]
  },
  {
   "cell_type": "code",
   "execution_count": 15,
   "id": "cca40025",
   "metadata": {},
   "outputs": [],
   "source": [
    "def plot_regression_Leff(feature_matrix, weights, targets):\n",
    "    '''\n",
    "    Description:\n",
    "    plot error hist \n",
    "    '''\n",
    "\n",
    "    '''\n",
    "    Arguments:\n",
    "    # you are allowed to change the argument list any way you like \n",
    "    '''  \n",
    "    pred=get_predictions(feature_matrix,weights)\n",
    "\n",
    "    X = feature_matrix[:,0]\n",
    "\n",
    "    plt.plot(X, targets, 'o', color='blue', label='Data points')\n",
    "    plt.plot(X, pred, 'o', color='red', label='Regression line')\n",
    "    plt.title('Plot of regression line')\n",
    "    plt.xlabel('Leff')\n",
    "    plt.ylabel('Delay (s)')\n",
    "    plt.legend()\n",
    "    plt.show()"
   ]
  },
  {
   "cell_type": "code",
   "execution_count": 16,
   "id": "1869fc1f",
   "metadata": {},
   "outputs": [],
   "source": [
    "def plot_regression_Vth(feature_matrix, weights, targets):\n",
    "    '''\n",
    "    Description:\n",
    "    plot error hist \n",
    "    '''\n",
    "\n",
    "    '''\n",
    "    Arguments:\n",
    "    # you are allowed to change the argument list any way you like \n",
    "    '''  \n",
    "    pred = get_predictions(feature_matrix,weights)\n",
    "\n",
    "    X = feature_matrix[:,1]\n",
    "\n",
    "    plt.plot(X, targets, 'o', color='blue', label='Data points')\n",
    "    plt.plot(X, pred, 'o', color='red', label='Regression line')\n",
    "    plt.title('Plot of regression line')\n",
    "    plt.xlabel('Vth')\n",
    "    plt.ylabel('Delay (s)')\n",
    "    plt.legend()\n",
    "    plt.show()\n",
    "    pred "
   ]
  },
  {
   "cell_type": "code",
   "execution_count": 17,
   "id": "33054f58",
   "metadata": {},
   "outputs": [],
   "source": [
    "def plot_regression_Tox(feature_matrix, weights, targets):\n",
    "    '''\n",
    "    Description:\n",
    "    plot error hist \n",
    "    '''\n",
    "\n",
    "    '''\n",
    "    Arguments:\n",
    "    # you are allowed to change the argument list any way you like \n",
    "    '''  \n",
    "    pred=get_predictions(feature_matrix,weights)\n",
    "\n",
    "    X = feature_matrix[:,2]\n",
    "\n",
    "    plt.plot(X, targets, 'o', color='blue', label='Data points')\n",
    "    plt.plot(X, pred, 'o', color='red', label='Regression line')\n",
    "    plt.title('Plot of regression line')\n",
    "    plt.xlabel('Tox')\n",
    "    plt.ylabel('Delay (s)')\n",
    "    plt.legend()\n",
    "    plt.show()\n",
    "  "
   ]
  },
  {
   "cell_type": "code",
   "execution_count": 18,
   "id": "876665f4",
   "metadata": {},
   "outputs": [],
   "source": [
    "def plot_regression_Vdd(feature_matrix, weights, targets):\n",
    "    '''\n",
    "    Description:\n",
    "    plot error hist \n",
    "    '''\n",
    "\n",
    "    '''\n",
    "    Arguments:\n",
    "    # you are allowed to change the argument list any way you like \n",
    "    '''  \n",
    "    pred=get_predictions(feature_matrix,weights)\n",
    "\n",
    "    X = feature_matrix[:,3]\n",
    "\n",
    "    plt.plot(X, targets, 'o', color='blue', label='Data points')\n",
    "    plt.plot(X, pred, 'o', color='red', label='Regression line')\n",
    "    plt.title('Plot of regression line')\n",
    "    plt.xlabel('Vdd')\n",
    "    plt.ylabel('Delay (s)')\n",
    "    plt.legend()\n",
    "    plt.show()"
   ]
  },
  {
   "cell_type": "code",
   "execution_count": 19,
   "id": "4326a923",
   "metadata": {},
   "outputs": [],
   "source": [
    "def do_gradient_descent(train_feature_matrix,  \n",
    "                        train_targets, \n",
    "                        dev_feature_matrix,\n",
    "                        dev_targets,\n",
    "                        lr=0.01,\n",
    "                        C=0.0,\n",
    "                        batch_size=64,\n",
    "                        max_steps=10000,\n",
    "                        eval_steps=500):\n",
    "    '''\n",
    "    feel free to significantly modify the body of this function as per your needs.\n",
    "    ** However **, you ought to make use of compute_gradients and update_weights function defined above\n",
    "    return your best possible estimate of LR weights\n",
    "\n",
    "    a sample code is as follows -- \n",
    "    '''\n",
    "    n = train_feature_matrix.shape[1]\n",
    "    weights = initialize_weights(n)\n",
    "    #print(\"weights =\", weights.shape)\n",
    "\n",
    "    \n",
    "    dev_loss = mse_loss(dev_feature_matrix, weights, dev_targets)\n",
    "    train_loss = mse_loss(train_feature_matrix, weights, train_targets)\n",
    "\n",
    "    print(\"step {} \\t dev loss: {} \\t train loss: {}\".format(0,dev_loss,train_loss))\n",
    "    min_dev_loss = dev_loss\n",
    "    corr_weights = weights\n",
    "    dev_loss_history = []\n",
    "    train_loss_history = []\n",
    "    step_num = []\n",
    "    for step in range(1,max_steps+1):\n",
    "        #sample a batch of features and gradients\n",
    "        features,targets = sample_random_batch(train_feature_matrix,train_targets,batch_size)\n",
    "        \n",
    "        #print(\"weights =\", weights.shape)\n",
    "        #compute gradients\n",
    "        gradients = compute_gradients(features, weights, targets, C)\n",
    "        #print(\"weights =\", weights.shape)\n",
    "\n",
    "        \n",
    "        #update weights\n",
    "        weights = update_weights(weights, gradients, lr)\n",
    "        \n",
    "        if(early_stopping(dev_loss_history,5)):\n",
    "            break;\n",
    "\n",
    "        if step%eval_steps == 0:\n",
    "            print(\"------------------------------\")\n",
    "            print(\"Dev:\")\n",
    "            dev_loss = loss_fn(dev_feature_matrix, weights, dev_targets, C)\n",
    "            dev_loss_history.append(dev_loss)\n",
    "\n",
    "            print(\"Train:\")\n",
    "            train_loss = loss_fn(train_feature_matrix, weights, train_targets, C)\n",
    "            train_loss_history.append(train_loss)\n",
    "\n",
    "            step_num.append(step)\n",
    "\n",
    "            print(\"step {} \\t dev loss: {} \\t train loss: {}\".format(step,dev_loss,train_loss))\n",
    "\n",
    "    \n",
    "    plt.figure()\n",
    "    plt.plot(step_num, dev_loss_history, 'b', label='validation MSE loss')\n",
    "    plt.title(' Validation loss')\n",
    "    plt.xlabel('Steps')\n",
    "    plt.ylabel('Loss')\n",
    "    plt.legend()\n",
    "    plt.show()\n",
    "  \n",
    "    return weights"
   ]
  },
  {
   "cell_type": "markdown",
   "id": "644ec79d",
   "metadata": {},
   "source": [
    "### Training the model using Gradient descent"
   ]
  },
  {
   "cell_type": "code",
   "execution_count": 20,
   "id": "449f8333",
   "metadata": {
    "scrolled": false
   },
   "outputs": [
    {
     "name": "stdout",
     "output_type": "stream",
     "text": [
      "\n",
      "(533, 108) (229, 108) (533, 1) (229, 1)\n",
      "------------------------------------\n",
      "training LR using gradient descent...\n",
      "r2 score is -121.20899280578426 \n",
      "\n",
      "r2 score is -98.6799275099884 \n",
      "\n",
      "step 0 \t dev loss: 2301.762735596286 \t train loss: 2311.531148336599\n"
     ]
    },
    {
     "name": "stderr",
     "output_type": "stream",
     "text": [
      "C:\\Users\\SANDEEP KUMAR\\AppData\\Local\\Temp/ipykernel_25748/4052576301.py:16: PerformanceWarning: DataFrame is highly fragmented.  This is usually the result of calling `frame.insert` many times, which has poor performance.  Consider using pd.concat instead.  To get a de-fragmented frame, use `newframe = frame.copy()`\n",
      "  df[i+'_'+k] = df[i] * df[k]\n"
     ]
    },
    {
     "name": "stdout",
     "output_type": "stream",
     "text": [
      "------------------------------\n",
      "Dev:\n",
      "r2 score is 0.2815058870589576 \n",
      "\n",
      "Train:\n",
      "r2 score is 0.15661087772886728 \n",
      "\n",
      "step 500 \t dev loss: 0.08813990081034914 \t train loss: 0.0852426397412587\n",
      "------------------------------\n",
      "Dev:\n",
      "r2 score is 0.5966013482025476 \n",
      "\n",
      "Train:\n",
      "r2 score is 0.5217176366719105 \n",
      "\n",
      "step 1000 \t dev loss: 0.047447473407481934 \t train loss: 0.04728411702560164\n",
      "------------------------------\n",
      "Dev:\n",
      "r2 score is 0.7902028768557798 \n",
      "\n",
      "Train:\n",
      "r2 score is 0.7592377026689461 \n",
      "\n",
      "step 1500 \t dev loss: 0.03735792283330325 \t train loss: 0.03715689000719665\n",
      "------------------------------\n",
      "Dev:\n",
      "r2 score is 0.8722075106156597 \n",
      "\n",
      "Train:\n",
      "r2 score is 0.8327778676168376 \n",
      "\n",
      "step 2000 \t dev loss: 0.03365614065549224 \t train loss: 0.034011748059072006\n",
      "------------------------------\n",
      "Dev:\n",
      "r2 score is 0.890553125054241 \n",
      "\n",
      "Train:\n",
      "r2 score is 0.887049145572026 \n",
      "\n",
      "step 2500 \t dev loss: 0.03210832585751962 \t train loss: 0.031735802226220744\n",
      "------------------------------\n",
      "Dev:\n",
      "r2 score is 0.9522857376654481 \n",
      "\n",
      "Train:\n",
      "r2 score is 0.9361673695718824 \n",
      "\n",
      "step 3000 \t dev loss: 0.02966311229904379 \t train loss: 0.029817866944656834\n",
      "------------------------------\n",
      "Dev:\n",
      "r2 score is 0.9355697012805864 \n",
      "\n",
      "Train:\n",
      "r2 score is 0.9353805564411052 \n",
      "\n",
      "step 3500 \t dev loss: 0.029314748516574056 \t train loss: 0.02905798299546254\n",
      "------------------------------\n",
      "Dev:\n",
      "r2 score is 0.9712748906070966 \n",
      "\n",
      "Train:\n",
      "r2 score is 0.968240683228562 \n",
      "\n",
      "step 4000 \t dev loss: 0.027687941652764003 \t train loss: 0.02763654333885933\n",
      "------------------------------\n",
      "Dev:\n",
      "r2 score is 0.9676779868665517 \n",
      "\n",
      "Train:\n",
      "r2 score is 0.9658480674898389 \n",
      "\n",
      "step 4500 \t dev loss: 0.02711139854503955 \t train loss: 0.027019205147698563\n",
      "------------------------------\n",
      "Dev:\n",
      "r2 score is 0.9775785731283374 \n",
      "\n",
      "Train:\n",
      "r2 score is 0.9740295177515872 \n",
      "\n",
      "step 5000 \t dev loss: 0.02620548071392016 \t train loss: 0.026190587215165248\n",
      "------------------------------\n",
      "Dev:\n",
      "r2 score is 0.9810210181386227 \n",
      "\n",
      "Train:\n",
      "r2 score is 0.9762986609498275 \n",
      "\n",
      "step 5500 \t dev loss: 0.025517030709623148 \t train loss: 0.0255414877953407\n",
      "------------------------------\n",
      "Dev:\n",
      "r2 score is 0.9550727937644093 \n",
      "\n",
      "Train:\n",
      "r2 score is 0.9373057208030209 \n",
      "\n",
      "step 6000 \t dev loss: 0.025608111983550924 \t train loss: 0.025806687835735823\n",
      "------------------------------\n",
      "Dev:\n",
      "r2 score is 0.9762290169576348 \n",
      "\n",
      "Train:\n",
      "r2 score is 0.9662665386427858 \n",
      "\n",
      "step 6500 \t dev loss: 0.02451830029461654 \t train loss: 0.024635346433062658\n",
      "------------------------------\n",
      "Dev:\n",
      "r2 score is 0.9648165938572159 \n",
      "\n",
      "Train:\n",
      "r2 score is 0.961731672387203 \n",
      "\n",
      "step 7000 \t dev loss: 0.024249432159244452 \t train loss: 0.024166122350018752\n",
      "------------------------------\n",
      "Dev:\n",
      "r2 score is 0.9850676797473505 \n",
      "\n",
      "Train:\n",
      "r2 score is 0.9823093514348361 \n",
      "\n",
      "step 7500 \t dev loss: 0.023217994805878397 \t train loss: 0.023214337082444265\n",
      "------------------------------\n",
      "Dev:\n",
      "r2 score is 0.9879623319375472 \n",
      "\n",
      "Train:\n",
      "r2 score is 0.9844111784898006 \n",
      "\n",
      "step 8000 \t dev loss: 0.022661777302083866 \t train loss: 0.02268635258733271\n",
      "------------------------------\n",
      "Dev:\n",
      "r2 score is 0.9881703817215706 \n",
      "\n",
      "Train:\n",
      "r2 score is 0.9840937222982932 \n",
      "\n",
      "step 8500 \t dev loss: 0.02218209617150948 \t train loss: 0.022218749138778218\n",
      "------------------------------\n",
      "Dev:\n",
      "r2 score is 0.9890329258074435 \n",
      "\n",
      "Train:\n",
      "r2 score is 0.9864265031445888 \n",
      "\n",
      "step 9000 \t dev loss: 0.021707332337073965 \t train loss: 0.021715670542485584\n",
      "------------------------------\n",
      "Dev:\n",
      "r2 score is 0.981433924959009 \n",
      "\n",
      "Train:\n",
      "r2 score is 0.9746491108778241 \n",
      "\n",
      "step 9500 \t dev loss: 0.02145113565444149 \t train loss: 0.021514878722294784\n",
      "------------------------------\n",
      "Dev:\n",
      "r2 score is 0.9736403067529326 \n",
      "\n",
      "Train:\n",
      "r2 score is 0.9708501951372022 \n",
      "\n",
      "step 10000 \t dev loss: 0.021237492726609568 \t train loss: 0.02118220991394957\n"
     ]
    },
    {
     "data": {
      "image/png": "[encoded data removed]",
      "text/plain": [
       "<Figure size 432x288 with 1 Axes>"
      ]
     },
     "metadata": {
      "needs_background": "light"
     },
     "output_type": "display_data"
    }
   ],
   "source": [
    "if __name__ == '__main__':\n",
    "    scaler = Scaler() #use of scaler is optional\n",
    "    #train_features, train_targets = get_features('data/train.csv',True,scaler), get_targets('data/train.csv')\n",
    "    #dev_features, dev_targets = get_features('data/dev.csv',False,scaler), get_targets('data/dev.csv')\n",
    "    train_features, dev_features, train_targets, dev_targets = get_features('training_data_scaled.csv',True,scaler)\n",
    "\n",
    "    train_features, dev_features, train_targets, dev_targets = train_features.to_numpy(), dev_features.to_numpy(), train_targets.to_numpy(), dev_targets.to_numpy()\n",
    "    \n",
    "    train_targets = train_targets.reshape((train_targets.shape[0], 1))\n",
    "    dev_targets = dev_targets.reshape((dev_targets.shape[0], 1))\n",
    "    \n",
    "    print(train_features.shape, dev_features.shape, train_targets.shape, dev_targets.shape)\n",
    "\n",
    "\n",
    "    '''a_solution = analytical_solution(train_features, train_targets, C=1)\n",
    "    print('evaluating analytical_solution...')\n",
    "    dev_loss=do_evaluation(dev_features, dev_targets, a_solution)\n",
    "    train_loss= do_evaluation(train_features, train_targets, a_solution)\n",
    "    print('analytical_solution \\t train loss: {}, dev_loss: {} '.format(train_loss, dev_loss))\n",
    "    print(a_solution)\n",
    "\n",
    "    #plot_trainsize_losses(train_features, train_targets,dev_features ,dev_targets)\n",
    "    plot_error_historgam(dev_features, a_solution, dev_targets)'''\n",
    "\n",
    "    print('------------------------------------')\n",
    "    print('training LR using gradient descent...')\n",
    "    gradient_descent_soln = do_gradient_descent(train_features, \n",
    "                         train_targets, \n",
    "                         dev_features,\n",
    "                         dev_targets,\n",
    "                         0.001,\n",
    "                         0.01,\n",
    "                         batch_size=32,\n",
    "                         max_steps=10000,\n",
    "                         eval_steps=500)"
   ]
  },
  {
   "cell_type": "markdown",
   "id": "8bf51fe6",
   "metadata": {},
   "source": [
    "### Testing the model using testing dataset"
   ]
  },
  {
   "cell_type": "code",
   "execution_count": 21,
   "id": "c6718b31",
   "metadata": {},
   "outputs": [],
   "source": [
    "def test_mse_loss(feature_matrix, weights, targets):\n",
    "    \n",
    "    pred=get_predictions(feature_matrix,weights)\n",
    "\n",
    "    r2 = r2_score(pred, targets)\n",
    "    print('r2 score is', r2,\"\\n\")\n",
    "    \n",
    "    plt.figure(figsize=(5,5))\n",
    "    plt.scatter(pred,targets)\n",
    "    plt.xlabel('actual')\n",
    "    plt.ylabel('predicted')\n",
    "    plt.title('Actual vs Predicted')\n",
    "    \n",
    "    loss = targets - pred\n",
    "    square=np.square(loss)  #square each term\n",
    "    mse=np.sum(square)      # sum each term\n",
    "    mse = mse/feature_matrix.shape[0]\n",
    "    return mse"
   ]
  },
  {
   "cell_type": "code",
   "execution_count": 26,
   "id": "4778e40f",
   "metadata": {},
   "outputs": [
    {
     "name": "stderr",
     "output_type": "stream",
     "text": [
      "C:\\Users\\SANDEEP KUMAR\\AppData\\Local\\Temp/ipykernel_25748/303254862.py:14: PerformanceWarning: DataFrame is highly fragmented.  This is usually the result of calling `frame.insert` many times, which has poor performance.  Consider using pd.concat instead.  To get a de-fragmented frame, use `newframe = frame.copy()`\n",
      "  test_df[i+'_'+k] = test_df[i] * test_df[k]\n"
     ]
    }
   ],
   "source": [
    "test_df = pd.read_csv('testing_data_scaled.csv')\n",
    "\n",
    "test_df = scaler(test_df)\n",
    "a = ['Leff', 'Vth', 'Tox', 'Vdd'] \n",
    "for i in a:\n",
    "    mu=test_df[i].mean()\n",
    "    for k in range(1,2):\n",
    "        sigma=k\n",
    "        test_df[i+'_'+str(k)] = np.exp(-((test_df[i]-mu)**2)/sigma**2) \n",
    "\n",
    "a = test_df.columns\n",
    "for i in a:\n",
    "    for k in a:\n",
    "        test_df[i+'_'+k] = test_df[i] * test_df[k]\n",
    "\n",
    "test_x = test_df.drop(['Power dissipation (W)', 'Delay (s)'], axis = 1)\n",
    "test_y = test_df['Delay (s)']\n",
    "\n",
    "test_x,test_y=test_x.to_numpy(),test_y.to_numpy()\n",
    "\n",
    "test_y = test_y.reshape((test_y.shape[0], 1))"
   ]
  },
  {
   "cell_type": "code",
   "execution_count": 27,
   "id": "dccf484c",
   "metadata": {
    "scrolled": false
   },
   "outputs": [
    {
     "name": "stdout",
     "output_type": "stream",
     "text": [
      "r2 score is 0.9480039044635475 \n",
      "\n"
     ]
    },
    {
     "data": {
      "text/plain": [
       "0.001249735070904555"
      ]
     },
     "execution_count": 27,
     "metadata": {},
     "output_type": "execute_result"
    },
    {
     "data": {
      "image/png": "[encoded data removed]",
      "text/plain": [
       "<Figure size 360x360 with 1 Axes>"
      ]
     },
     "metadata": {
      "needs_background": "light"
     },
     "output_type": "display_data"
    }
   ],
   "source": [
    "test_mse_loss(test_x,gradient_descent_soln,test_y)"
   ]
  },
  {
   "cell_type": "code",
   "execution_count": 24,
   "id": "2ec3f6dc",
   "metadata": {},
   "outputs": [
    {
     "data": {
      "image/png": "[encoded data removed]",
      "text/plain": [
       "<Figure size 432x288 with 1 Axes>"
      ]
     },
     "metadata": {
      "needs_background": "light"
     },
     "output_type": "display_data"
    }
   ],
   "source": [
    "plot_error_historgam(dev_features, gradient_descent_soln, dev_targets)"
   ]
  },
  {
   "cell_type": "code",
   "execution_count": 25,
   "id": "3a4cf1ca",
   "metadata": {},
   "outputs": [
    {
     "data": {
      "image/png": "[encoded data removed]",
      "text/plain": [
       "<Figure size 432x288 with 1 Axes>"
      ]
     },
     "metadata": {
      "needs_background": "light"
     },
     "output_type": "display_data"
    },
    {
     "data": {
      "image/png": "[encoded data removed]",
      "text/plain": [
       "<Figure size 432x288 with 1 Axes>"
      ]
     },
     "metadata": {
      "needs_background": "light"
     },
     "output_type": "display_data"
    },
    {
     "data": {
      "image/png": "[encoded data removed]",
      "text/plain": [
       "<Figure size 432x288 with 1 Axes>"
      ]
     },
     "metadata": {
      "needs_background": "light"
     },
     "output_type": "display_data"
    },
    {
     "data": {
      "image/png": "[encoded data removed]",
      "text/plain": [
       "<Figure size 432x288 with 1 Axes>"
      ]
     },
     "metadata": {
      "needs_background": "light"
     },
     "output_type": "display_data"
    }
   ],
   "source": [
    "plot_regression_Leff(dev_features, gradient_descent_soln, dev_targets)\n",
    "plot_regression_Vth(dev_features, gradient_descent_soln, dev_targets)\n",
    "plot_regression_Tox(dev_features, gradient_descent_soln, dev_targets)\n",
    "plot_regression_Vdd(dev_features, gradient_descent_soln, dev_targets)"
   ]
  },
  {
   "cell_type": "code",
   "execution_count": null,
   "id": "4a8f60ea",
   "metadata": {},
   "outputs": [],
   "source": []
  }
 ],
 "metadata": {
  "kernelspec": {
   "display_name": "Python 3 (ipykernel)",
   "language": "python",
   "name": "python3"
  },
  "language_info": {
   "codemirror_mode": {
    "name": "ipython",
    "version": 3
   },
   "file_extension": ".py",
   "mimetype": "text/x-python",
   "name": "python",
   "nbconvert_exporter": "python",
   "pygments_lexer": "ipython3",
   "version": "3.9.6"
  }
 },
 "nbformat": 4,
 "nbformat_minor": 5
}
