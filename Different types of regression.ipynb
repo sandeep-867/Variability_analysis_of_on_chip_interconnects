{
 "cells": [
  {
   "cell_type": "code",
   "execution_count": 1,
   "id": "e67e709d",
   "metadata": {},
   "outputs": [],
   "source": [
    "import pandas as pd\n",
    "\n",
    "import matplotlib.pyplot as plt\n",
    "\n",
    "from sklearn.model_selection import train_test_split\n",
    "from sklearn.metrics import r2_score"
   ]
  },
  {
   "cell_type": "code",
   "execution_count": 2,
   "id": "86585872",
   "metadata": {
    "scrolled": true
   },
   "outputs": [
    {
     "data": {
      "text/html": [
       "<div>\n",
       "<style scoped>\n",
       "    .dataframe tbody tr th:only-of-type {\n",
       "        vertical-align: middle;\n",
       "    }\n",
       "\n",
       "    .dataframe tbody tr th {\n",
       "        vertical-align: top;\n",
       "    }\n",
       "\n",
       "    .dataframe thead th {\n",
       "        text-align: right;\n",
       "    }\n",
       "</style>\n",
       "<table border=\"1\" class=\"dataframe\">\n",
       "  <thead>\n",
       "    <tr style=\"text-align: right;\">\n",
       "      <th></th>\n",
       "      <th>Leff</th>\n",
       "      <th>Vth</th>\n",
       "      <th>Tox</th>\n",
       "      <th>Vdd</th>\n",
       "      <th>Power dissipation (W)</th>\n",
       "      <th>Delay (s)</th>\n",
       "    </tr>\n",
       "  </thead>\n",
       "  <tbody>\n",
       "    <tr>\n",
       "      <th>0</th>\n",
       "      <td>0.593985</td>\n",
       "      <td>0.559399</td>\n",
       "      <td>0.157895</td>\n",
       "      <td>0.228917</td>\n",
       "      <td>18.1</td>\n",
       "      <td>1.92</td>\n",
       "    </tr>\n",
       "    <tr>\n",
       "      <th>1</th>\n",
       "      <td>0.454887</td>\n",
       "      <td>0.408498</td>\n",
       "      <td>0.368421</td>\n",
       "      <td>0.245822</td>\n",
       "      <td>17.9</td>\n",
       "      <td>1.48</td>\n",
       "    </tr>\n",
       "    <tr>\n",
       "      <th>2</th>\n",
       "      <td>0.676692</td>\n",
       "      <td>0.185911</td>\n",
       "      <td>0.236842</td>\n",
       "      <td>0.346928</td>\n",
       "      <td>22.7</td>\n",
       "      <td>1.18</td>\n",
       "    </tr>\n",
       "    <tr>\n",
       "      <th>3</th>\n",
       "      <td>0.458647</td>\n",
       "      <td>0.513015</td>\n",
       "      <td>0.342105</td>\n",
       "      <td>0.366385</td>\n",
       "      <td>22.2</td>\n",
       "      <td>1.51</td>\n",
       "    </tr>\n",
       "    <tr>\n",
       "      <th>4</th>\n",
       "      <td>0.890977</td>\n",
       "      <td>0.331817</td>\n",
       "      <td>0.473684</td>\n",
       "      <td>0.206502</td>\n",
       "      <td>11.6</td>\n",
       "      <td>2.54</td>\n",
       "    </tr>\n",
       "  </tbody>\n",
       "</table>\n",
       "</div>"
      ],
      "text/plain": [
       "       Leff       Vth       Tox       Vdd  Power dissipation (W)  Delay (s)\n",
       "0  0.593985  0.559399  0.157895  0.228917                   18.1       1.92\n",
       "1  0.454887  0.408498  0.368421  0.245822                   17.9       1.48\n",
       "2  0.676692  0.185911  0.236842  0.346928                   22.7       1.18\n",
       "3  0.458647  0.513015  0.342105  0.366385                   22.2       1.51\n",
       "4  0.890977  0.331817  0.473684  0.206502                   11.6       2.54"
      ]
     },
     "execution_count": 2,
     "metadata": {},
     "output_type": "execute_result"
    }
   ],
   "source": [
    "data = pd.read_csv('scaled_data.csv')\n",
    "\n",
    "data.head()"
   ]
  },
  {
   "cell_type": "markdown",
   "id": "af1a5286",
   "metadata": {},
   "source": [
    "### Different regression models"
   ]
  },
  {
   "cell_type": "markdown",
   "id": "74138364",
   "metadata": {},
   "source": [
    "### Linear Regression"
   ]
  },
  {
   "cell_type": "code",
   "execution_count": 3,
   "id": "621ac555",
   "metadata": {},
   "outputs": [],
   "source": [
    "from sklearn.linear_model import LinearRegression\n",
    "\n",
    "def linear_model(x_train, y_train):\n",
    "    \n",
    "    print(\"Linear Regression \")\n",
    "    linear_regression = LinearRegression()\n",
    "    \n",
    "    linear_regression.fit(x_train, y_train)\n",
    "    \n",
    "    return linear_regression"
   ]
  },
  {
   "cell_type": "markdown",
   "id": "04a3353e",
   "metadata": {},
   "source": [
    "### Lasso Regression"
   ]
  },
  {
   "cell_type": "code",
   "execution_count": 4,
   "id": "8a2d7f9c",
   "metadata": {},
   "outputs": [],
   "source": [
    "from sklearn.linear_model import Lasso\n",
    "\n",
    "def lasso_model(x_train, y_train):\n",
    "    \n",
    "    print(\"Lasso Regression\")\n",
    "    lasso_regression = Lasso(alpha=0.1, max_iter=10000)\n",
    "    \n",
    "    lasso_regression.fit(x_train, y_train)\n",
    "    \n",
    "    return lasso_regression"
   ]
  },
  {
   "cell_type": "markdown",
   "id": "0ace4f1e",
   "metadata": {},
   "source": [
    "### Ridge regression"
   ]
  },
  {
   "cell_type": "code",
   "execution_count": 5,
   "id": "3cbf99e3",
   "metadata": {},
   "outputs": [],
   "source": [
    "from sklearn.linear_model import Ridge\n",
    "\n",
    "def ridge_model(x_train, y_train):\n",
    "    \n",
    "    print(\"Ridge Regression\")\n",
    "    ridge_regression = Ridge(alpha=0.5)\n",
    "    \n",
    "    ridge_regression.fit(x_train, y_train)\n",
    "    \n",
    "    return ridge_regression"
   ]
  },
  {
   "cell_type": "code",
   "execution_count": 6,
   "id": "f75b35be",
   "metadata": {},
   "outputs": [],
   "source": [
    "def build_and_train_model(data, target_name, reg_fn):\n",
    "    \n",
    "    X = data.drop(target_name, axis=1)\n",
    "    Y = data[target_name]\n",
    "    \n",
    "    x_train, x_test, y_train, y_test = \\\n",
    "        train_test_split(X, Y, test_size = 0.3, random_state=0)\n",
    "\n",
    "    model = reg_fn(x_train, y_train)\n",
    "    \n",
    "    score = model.score(x_train, y_train)\n",
    "    print(\"Training Score : \", score)\n",
    "\n",
    "    y_pred = model.predict(x_test)\n",
    "    \n",
    "    r_score = r2_score(y_test, y_pred)\n",
    "    print(\"Testing Score : \", r_score)\n",
    "    \n",
    "    plt.figure(figsize=(5,5))\n",
    "    plt.scatter(y_test,y_pred)\n",
    "    plt.xlabel('actual')\n",
    "    plt.ylabel('predicted')\n",
    "    plt.title('Actual vs Predicted')\n",
    "    \n",
    "    return {'model' : model, \n",
    "            'x_train' : x_train, 'x_test' : x_test,\n",
    "            'y_train' : y_train, 'y_test' : y_test, \n",
    "            'y_pred' : y_pred\n",
    "           }"
   ]
  },
  {
   "cell_type": "code",
   "execution_count": 7,
   "id": "552307f6",
   "metadata": {},
   "outputs": [],
   "source": [
    "cols=list(data.columns)"
   ]
  },
  {
   "cell_type": "code",
   "execution_count": 8,
   "id": "7f271121",
   "metadata": {},
   "outputs": [
    {
     "data": {
      "text/plain": [
       "'Delay (s)'"
      ]
     },
     "execution_count": 8,
     "metadata": {},
     "output_type": "execute_result"
    }
   ],
   "source": [
    "cols.pop(-1)"
   ]
  },
  {
   "cell_type": "code",
   "execution_count": 9,
   "id": "7d055de8",
   "metadata": {},
   "outputs": [
    {
     "data": {
      "text/plain": [
       "['Leff', 'Vth', 'Tox', 'Vdd', 'Power dissipation (W)']"
      ]
     },
     "execution_count": 9,
     "metadata": {},
     "output_type": "execute_result"
    }
   ],
   "source": [
    "cols"
   ]
  },
  {
   "cell_type": "code",
   "execution_count": 10,
   "id": "6f781dff",
   "metadata": {},
   "outputs": [],
   "source": [
    "df1=data[cols]"
   ]
  },
  {
   "cell_type": "code",
   "execution_count": 11,
   "id": "27b8d76e",
   "metadata": {},
   "outputs": [
    {
     "data": {
      "text/plain": [
       "'Power dissipation (W)'"
      ]
     },
     "execution_count": 11,
     "metadata": {},
     "output_type": "execute_result"
    }
   ],
   "source": [
    "cols.pop(-1)"
   ]
  },
  {
   "cell_type": "code",
   "execution_count": 12,
   "id": "b9dda9dc",
   "metadata": {},
   "outputs": [],
   "source": [
    "cols.append('Delay (s)')"
   ]
  },
  {
   "cell_type": "code",
   "execution_count": 13,
   "id": "b4327edb",
   "metadata": {
    "scrolled": true
   },
   "outputs": [
    {
     "data": {
      "text/plain": [
       "['Leff', 'Vth', 'Tox', 'Vdd', 'Delay (s)']"
      ]
     },
     "execution_count": 13,
     "metadata": {},
     "output_type": "execute_result"
    }
   ],
   "source": [
    "cols"
   ]
  },
  {
   "cell_type": "code",
   "execution_count": 14,
   "id": "1906c5aa",
   "metadata": {},
   "outputs": [],
   "source": [
    "df2=data[cols]"
   ]
  },
  {
   "cell_type": "code",
   "execution_count": 15,
   "id": "34e74f82",
   "metadata": {
    "scrolled": false
   },
   "outputs": [
    {
     "name": "stdout",
     "output_type": "stream",
     "text": [
      "Linear Regression \n",
      "Training Score :  0.6708009393442804\n",
      "Testing Score :  0.7107532900972597\n"
     ]
    },
    {
     "data": {
      "image/png": "[encoded data removed]",
      "text/plain": [
       "<Figure size 360x360 with 1 Axes>"
      ]
     },
     "metadata": {
      "needs_background": "light"
     },
     "output_type": "display_data"
    }
   ],
   "source": [
    "linear_reg1 = build_and_train_model(df1,\"Power dissipation (W)\", linear_model)"
   ]
  },
  {
   "cell_type": "code",
   "execution_count": 16,
   "id": "d94cd50a",
   "metadata": {
    "scrolled": false
   },
   "outputs": [
    {
     "name": "stdout",
     "output_type": "stream",
     "text": [
      "Linear Regression \n",
      "Training Score :  0.24002626862012522\n",
      "Testing Score :  0.31156250755312664\n"
     ]
    },
    {
     "data": {
      "image/png": "[encoded data removed]",
      "text/plain": [
       "<Figure size 360x360 with 1 Axes>"
      ]
     },
     "metadata": {
      "needs_background": "light"
     },
     "output_type": "display_data"
    }
   ],
   "source": [
    "linear_reg2 = build_and_train_model(df2,\"Delay (s)\", linear_model)"
   ]
  },
  {
   "cell_type": "code",
   "execution_count": 17,
   "id": "e47043c6",
   "metadata": {
    "scrolled": true
   },
   "outputs": [
    {
     "name": "stdout",
     "output_type": "stream",
     "text": [
      "Lasso Regression\n",
      "Training Score :  0.6644186745930932\n",
      "Testing Score :  0.7121335302521554\n"
     ]
    },
    {
     "data": {
      "image/png": "[encoded data removed]",
      "text/plain": [
       "<Figure size 360x360 with 1 Axes>"
      ]
     },
     "metadata": {
      "needs_background": "light"
     },
     "output_type": "display_data"
    }
   ],
   "source": [
    "lasso_reg1 = build_and_train_model(df1,\"Power dissipation (W)\" , lasso_model)"
   ]
  },
  {
   "cell_type": "code",
   "execution_count": 18,
   "id": "be9fb3e8",
   "metadata": {
    "scrolled": false
   },
   "outputs": [
    {
     "name": "stdout",
     "output_type": "stream",
     "text": [
      "Lasso Regression\n",
      "Training Score :  0.0\n",
      "Testing Score :  -0.002297160254949082\n"
     ]
    },
    {
     "data": {
      "image/png": "[encoded data removed]",
      "text/plain": [
       "<Figure size 360x360 with 1 Axes>"
      ]
     },
     "metadata": {
      "needs_background": "light"
     },
     "output_type": "display_data"
    }
   ],
   "source": [
    "lasso_reg2 = build_and_train_model(df2,\"Delay (s)\" , lasso_model)"
   ]
  },
  {
   "cell_type": "code",
   "execution_count": 19,
   "id": "85455ff5",
   "metadata": {
    "scrolled": true
   },
   "outputs": [
    {
     "name": "stdout",
     "output_type": "stream",
     "text": [
      "Ridge Regression\n",
      "Training Score :  0.6698369596063452\n",
      "Testing Score :  0.7110651085063644\n"
     ]
    },
    {
     "data": {
      "image/png": "[encoded data removed]",
      "text/plain": [
       "<Figure size 360x360 with 1 Axes>"
      ]
     },
     "metadata": {
      "needs_background": "light"
     },
     "output_type": "display_data"
    }
   ],
   "source": [
    "ridge_reg1 = build_and_train_model(df1, \"Power dissipation (W)\", ridge_model)"
   ]
  },
  {
   "cell_type": "code",
   "execution_count": 20,
   "id": "89e57ba1",
   "metadata": {
    "scrolled": false
   },
   "outputs": [
    {
     "name": "stdout",
     "output_type": "stream",
     "text": [
      "Ridge Regression\n",
      "Training Score :  0.23967729253197312\n",
      "Testing Score :  0.31004529307603135\n"
     ]
    },
    {
     "data": {
      "image/png": "[encoded data removed]",
      "text/plain": [
       "<Figure size 360x360 with 1 Axes>"
      ]
     },
     "metadata": {
      "needs_background": "light"
     },
     "output_type": "display_data"
    }
   ],
   "source": [
    "ridge_reg2 = build_and_train_model(df2, \"Delay (s)\", ridge_model)"
   ]
  },
  {
   "cell_type": "markdown",
   "id": "71429e64",
   "metadata": {},
   "source": [
    "### SGD Regression"
   ]
  },
  {
   "cell_type": "code",
   "execution_count": 21,
   "id": "6e4166c1",
   "metadata": {},
   "outputs": [],
   "source": [
    "from sklearn.linear_model import SGDRegressor\n",
    "\n",
    "def sgd_model(x_train, y_train):\n",
    "    \n",
    "    print(\"SGD Regression\")\n",
    "    sgd_regression = SGDRegressor(max_iter=4000)\n",
    "    \n",
    "    sgd_regression.fit(x_train, y_train)\n",
    "    \n",
    "    return sgd_regression"
   ]
  },
  {
   "cell_type": "code",
   "execution_count": 22,
   "id": "70f6ca16",
   "metadata": {},
   "outputs": [
    {
     "name": "stdout",
     "output_type": "stream",
     "text": [
      "SGD Regression\n",
      "Training Score :  0.6677871009120859\n",
      "Testing Score :  0.7080956189896237\n"
     ]
    },
    {
     "data": {
      "image/png": "[encoded data removed]",
      "text/plain": [
       "<Figure size 360x360 with 1 Axes>"
      ]
     },
     "metadata": {
      "needs_background": "light"
     },
     "output_type": "display_data"
    }
   ],
   "source": [
    "sgd_reg1 = build_and_train_model(df1, \"Power dissipation (W)\", sgd_model)"
   ]
  },
  {
   "cell_type": "code",
   "execution_count": 23,
   "id": "af5514ca",
   "metadata": {},
   "outputs": [
    {
     "name": "stdout",
     "output_type": "stream",
     "text": [
      "SGD Regression\n",
      "Training Score :  0.02815709671240252\n",
      "Testing Score :  0.054849015367214426\n"
     ]
    },
    {
     "data": {
      "image/png": "[encoded data removed]",
      "text/plain": [
       "<Figure size 360x360 with 1 Axes>"
      ]
     },
     "metadata": {
      "needs_background": "light"
     },
     "output_type": "display_data"
    }
   ],
   "source": [
    "sgd_reg2 = build_and_train_model(df2, \"Delay (s)\", sgd_model)"
   ]
  },
  {
   "cell_type": "markdown",
   "id": "072711b2",
   "metadata": {},
   "source": [
    "### Ordinary Least squares"
   ]
  },
  {
   "cell_type": "code",
   "execution_count": 24,
   "id": "4ddfdb28",
   "metadata": {},
   "outputs": [],
   "source": [
    "import numpy as np\n",
    "import statsmodels.api as sm"
   ]
  },
  {
   "cell_type": "code",
   "execution_count": 25,
   "id": "7fb6cb88",
   "metadata": {},
   "outputs": [],
   "source": [
    "X1 = df1.drop('Power dissipation (W)',axis=1).to_numpy()"
   ]
  },
  {
   "cell_type": "code",
   "execution_count": 26,
   "id": "66ab9cdd",
   "metadata": {},
   "outputs": [
    {
     "data": {
      "text/plain": [
       "array([[0.59398496, 0.55939874, 0.15789474, 0.22891743],\n",
       "       [0.45488722, 0.40849826, 0.36842105, 0.2458225 ],\n",
       "       [0.67669173, 0.18591127, 0.23684211, 0.34692783],\n",
       "       [0.45864662, 0.51301473, 0.34210526, 0.36638492],\n",
       "       [0.89097744, 0.3318169 , 0.47368421, 0.20650195]])"
      ]
     },
     "execution_count": 26,
     "metadata": {},
     "output_type": "execute_result"
    }
   ],
   "source": [
    "X1[:5]"
   ]
  },
  {
   "cell_type": "code",
   "execution_count": 27,
   "id": "0fd00d0d",
   "metadata": {},
   "outputs": [],
   "source": [
    "Y1 = df1['Power dissipation (W)'] "
   ]
  },
  {
   "cell_type": "code",
   "execution_count": 28,
   "id": "8b363905",
   "metadata": {},
   "outputs": [],
   "source": [
    "X1 = sm.add_constant(X1)"
   ]
  },
  {
   "cell_type": "code",
   "execution_count": 29,
   "id": "d3bfa674",
   "metadata": {
    "scrolled": false
   },
   "outputs": [
    {
     "data": {
      "text/html": [
       "<table class=\"simpletable\">\n",
       "<caption>OLS Regression Results</caption>\n",
       "<tr>\n",
       "  <th>Dep. Variable:</th>    <td>Power dissipation (W)</td> <th>  R-squared:         </th> <td>   0.684</td> \n",
       "</tr>\n",
       "<tr>\n",
       "  <th>Model:</th>                     <td>OLS</td>          <th>  Adj. R-squared:    </th> <td>   0.683</td> \n",
       "</tr>\n",
       "<tr>\n",
       "  <th>Method:</th>               <td>Least Squares</td>     <th>  F-statistic:       </th> <td>   513.8</td> \n",
       "</tr>\n",
       "<tr>\n",
       "  <th>Date:</th>               <td>Fri, 03 Jun 2022</td>    <th>  Prob (F-statistic):</th> <td>1.39e-235</td>\n",
       "</tr>\n",
       "<tr>\n",
       "  <th>Time:</th>                   <td>12:17:29</td>        <th>  Log-Likelihood:    </th> <td> -3091.1</td> \n",
       "</tr>\n",
       "<tr>\n",
       "  <th>No. Observations:</th>        <td>   953</td>         <th>  AIC:               </th> <td>   6192.</td> \n",
       "</tr>\n",
       "<tr>\n",
       "  <th>Df Residuals:</th>            <td>   948</td>         <th>  BIC:               </th> <td>   6216.</td> \n",
       "</tr>\n",
       "<tr>\n",
       "  <th>Df Model:</th>                <td>     4</td>         <th>                     </th>     <td> </td>    \n",
       "</tr>\n",
       "<tr>\n",
       "  <th>Covariance Type:</th>        <td>nonrobust</td>       <th>                     </th>     <td> </td>    \n",
       "</tr>\n",
       "</table>\n",
       "<table class=\"simpletable\">\n",
       "<tr>\n",
       "    <td></td>       <th>coef</th>     <th>std err</th>      <th>t</th>      <th>P>|t|</th>  <th>[0.025</th>    <th>0.975]</th>  \n",
       "</tr>\n",
       "<tr>\n",
       "  <th>const</th> <td>   -1.1183</td> <td>    1.408</td> <td>   -0.794</td> <td> 0.427</td> <td>   -3.882</td> <td>    1.646</td>\n",
       "</tr>\n",
       "<tr>\n",
       "  <th>x1</th>    <td>   -0.8369</td> <td>    1.337</td> <td>   -0.626</td> <td> 0.531</td> <td>   -3.460</td> <td>    1.786</td>\n",
       "</tr>\n",
       "<tr>\n",
       "  <th>x2</th>    <td>    1.7240</td> <td>    1.389</td> <td>    1.241</td> <td> 0.215</td> <td>   -1.002</td> <td>    4.450</td>\n",
       "</tr>\n",
       "<tr>\n",
       "  <th>x3</th>    <td>    0.1752</td> <td>    1.167</td> <td>    0.150</td> <td> 0.881</td> <td>   -2.115</td> <td>    2.466</td>\n",
       "</tr>\n",
       "<tr>\n",
       "  <th>x4</th>    <td>   63.9906</td> <td>    1.414</td> <td>   45.267</td> <td> 0.000</td> <td>   61.216</td> <td>   66.765</td>\n",
       "</tr>\n",
       "</table>\n",
       "<table class=\"simpletable\">\n",
       "<tr>\n",
       "  <th>Omnibus:</th>       <td>208.250</td> <th>  Durbin-Watson:     </th> <td>   1.957</td> \n",
       "</tr>\n",
       "<tr>\n",
       "  <th>Prob(Omnibus):</th> <td> 0.000</td>  <th>  Jarque-Bera (JB):  </th> <td> 785.178</td> \n",
       "</tr>\n",
       "<tr>\n",
       "  <th>Skew:</th>          <td> 1.000</td>  <th>  Prob(JB):          </th> <td>3.17e-171</td>\n",
       "</tr>\n",
       "<tr>\n",
       "  <th>Kurtosis:</th>      <td> 6.972</td>  <th>  Cond. No.          </th> <td>    14.1</td> \n",
       "</tr>\n",
       "</table><br/><br/>Notes:<br/>[1] Standard Errors assume that the covariance matrix of the errors is correctly specified."
      ],
      "text/plain": [
       "<class 'statsmodels.iolib.summary.Summary'>\n",
       "\"\"\"\n",
       "                              OLS Regression Results                             \n",
       "=================================================================================\n",
       "Dep. Variable:     Power dissipation (W)   R-squared:                       0.684\n",
       "Model:                               OLS   Adj. R-squared:                  0.683\n",
       "Method:                    Least Squares   F-statistic:                     513.8\n",
       "Date:                   Fri, 03 Jun 2022   Prob (F-statistic):          1.39e-235\n",
       "Time:                           12:17:29   Log-Likelihood:                -3091.1\n",
       "No. Observations:                    953   AIC:                             6192.\n",
       "Df Residuals:                        948   BIC:                             6216.\n",
       "Df Model:                              4                                         \n",
       "Covariance Type:               nonrobust                                         \n",
       "==============================================================================\n",
       "                 coef    std err          t      P>|t|      [0.025      0.975]\n",
       "------------------------------------------------------------------------------\n",
       "const         -1.1183      1.408     -0.794      0.427      -3.882       1.646\n",
       "x1            -0.8369      1.337     -0.626      0.531      -3.460       1.786\n",
       "x2             1.7240      1.389      1.241      0.215      -1.002       4.450\n",
       "x3             0.1752      1.167      0.150      0.881      -2.115       2.466\n",
       "x4            63.9906      1.414     45.267      0.000      61.216      66.765\n",
       "==============================================================================\n",
       "Omnibus:                      208.250   Durbin-Watson:                   1.957\n",
       "Prob(Omnibus):                  0.000   Jarque-Bera (JB):              785.178\n",
       "Skew:                           1.000   Prob(JB):                    3.17e-171\n",
       "Kurtosis:                       6.972   Cond. No.                         14.1\n",
       "==============================================================================\n",
       "\n",
       "Notes:\n",
       "[1] Standard Errors assume that the covariance matrix of the errors is correctly specified.\n",
       "\"\"\""
      ]
     },
     "execution_count": 29,
     "metadata": {},
     "output_type": "execute_result"
    }
   ],
   "source": [
    "model1 = sm.OLS(Y1, X1).fit()\n",
    "\n",
    "model1.summary()"
   ]
  },
  {
   "cell_type": "code",
   "execution_count": 30,
   "id": "cb220520",
   "metadata": {},
   "outputs": [],
   "source": [
    "X2 = df2.drop('Delay (s)',axis=1).to_numpy()"
   ]
  },
  {
   "cell_type": "code",
   "execution_count": 31,
   "id": "24591eb4",
   "metadata": {},
   "outputs": [
    {
     "data": {
      "text/plain": [
       "array([[0.59398496, 0.55939874, 0.15789474, 0.22891743],\n",
       "       [0.45488722, 0.40849826, 0.36842105, 0.2458225 ],\n",
       "       [0.67669173, 0.18591127, 0.23684211, 0.34692783],\n",
       "       [0.45864662, 0.51301473, 0.34210526, 0.36638492],\n",
       "       [0.89097744, 0.3318169 , 0.47368421, 0.20650195]])"
      ]
     },
     "execution_count": 31,
     "metadata": {},
     "output_type": "execute_result"
    }
   ],
   "source": [
    "X2[:5]"
   ]
  },
  {
   "cell_type": "code",
   "execution_count": 32,
   "id": "9578fba7",
   "metadata": {},
   "outputs": [],
   "source": [
    "Y2 = df2['Delay (s)'] "
   ]
  },
  {
   "cell_type": "code",
   "execution_count": 33,
   "id": "b6064041",
   "metadata": {},
   "outputs": [],
   "source": [
    "X12 = sm.add_constant(X2)"
   ]
  },
  {
   "cell_type": "code",
   "execution_count": 34,
   "id": "93de69c9",
   "metadata": {
    "scrolled": true
   },
   "outputs": [
    {
     "data": {
      "text/html": [
       "<table class=\"simpletable\">\n",
       "<caption>OLS Regression Results</caption>\n",
       "<tr>\n",
       "  <th>Dep. Variable:</th>        <td>Delay (s)</td>    <th>  R-squared (uncentered):</th>      <td>   0.810</td>\n",
       "</tr>\n",
       "<tr>\n",
       "  <th>Model:</th>                   <td>OLS</td>       <th>  Adj. R-squared (uncentered):</th> <td>   0.810</td>\n",
       "</tr>\n",
       "<tr>\n",
       "  <th>Method:</th>             <td>Least Squares</td>  <th>  F-statistic:       </th>          <td>   1014.</td>\n",
       "</tr>\n",
       "<tr>\n",
       "  <th>Date:</th>             <td>Fri, 03 Jun 2022</td> <th>  Prob (F-statistic):</th>           <td>  0.00</td> \n",
       "</tr>\n",
       "<tr>\n",
       "  <th>Time:</th>                 <td>12:17:30</td>     <th>  Log-Likelihood:    </th>          <td> -1013.1</td>\n",
       "</tr>\n",
       "<tr>\n",
       "  <th>No. Observations:</th>      <td>   953</td>      <th>  AIC:               </th>          <td>   2034.</td>\n",
       "</tr>\n",
       "<tr>\n",
       "  <th>Df Residuals:</th>          <td>   949</td>      <th>  BIC:               </th>          <td>   2054.</td>\n",
       "</tr>\n",
       "<tr>\n",
       "  <th>Df Model:</th>              <td>     4</td>      <th>                     </th>              <td> </td>   \n",
       "</tr>\n",
       "<tr>\n",
       "  <th>Covariance Type:</th>      <td>nonrobust</td>    <th>                     </th>              <td> </td>   \n",
       "</tr>\n",
       "</table>\n",
       "<table class=\"simpletable\">\n",
       "<tr>\n",
       "   <td></td>     <th>coef</th>     <th>std err</th>      <th>t</th>      <th>P>|t|</th>  <th>[0.025</th>    <th>0.975]</th>  \n",
       "</tr>\n",
       "<tr>\n",
       "  <th>x1</th> <td>    1.3705</td> <td>    0.125</td> <td>   10.955</td> <td> 0.000</td> <td>    1.125</td> <td>    1.616</td>\n",
       "</tr>\n",
       "<tr>\n",
       "  <th>x2</th> <td>    1.3032</td> <td>    0.135</td> <td>    9.664</td> <td> 0.000</td> <td>    1.039</td> <td>    1.568</td>\n",
       "</tr>\n",
       "<tr>\n",
       "  <th>x3</th> <td>    0.9836</td> <td>    0.117</td> <td>    8.374</td> <td> 0.000</td> <td>    0.753</td> <td>    1.214</td>\n",
       "</tr>\n",
       "<tr>\n",
       "  <th>x4</th> <td>   -1.0759</td> <td>    0.137</td> <td>   -7.875</td> <td> 0.000</td> <td>   -1.344</td> <td>   -0.808</td>\n",
       "</tr>\n",
       "</table>\n",
       "<table class=\"simpletable\">\n",
       "<tr>\n",
       "  <th>Omnibus:</th>       <td>149.175</td> <th>  Durbin-Watson:     </th> <td>   2.419</td>\n",
       "</tr>\n",
       "<tr>\n",
       "  <th>Prob(Omnibus):</th> <td> 0.000</td>  <th>  Jarque-Bera (JB):  </th> <td> 319.816</td>\n",
       "</tr>\n",
       "<tr>\n",
       "  <th>Skew:</th>          <td> 0.889</td>  <th>  Prob(JB):          </th> <td>3.57e-70</td>\n",
       "</tr>\n",
       "<tr>\n",
       "  <th>Kurtosis:</th>      <td> 5.212</td>  <th>  Cond. No.          </th> <td>    7.06</td>\n",
       "</tr>\n",
       "</table><br/><br/>Notes:<br/>[1] R² is computed without centering (uncentered) since the model does not contain a constant.<br/>[2] Standard Errors assume that the covariance matrix of the errors is correctly specified."
      ],
      "text/plain": [
       "<class 'statsmodels.iolib.summary.Summary'>\n",
       "\"\"\"\n",
       "                                 OLS Regression Results                                \n",
       "=======================================================================================\n",
       "Dep. Variable:              Delay (s)   R-squared (uncentered):                   0.810\n",
       "Model:                            OLS   Adj. R-squared (uncentered):              0.810\n",
       "Method:                 Least Squares   F-statistic:                              1014.\n",
       "Date:                Fri, 03 Jun 2022   Prob (F-statistic):                        0.00\n",
       "Time:                        12:17:30   Log-Likelihood:                         -1013.1\n",
       "No. Observations:                 953   AIC:                                      2034.\n",
       "Df Residuals:                     949   BIC:                                      2054.\n",
       "Df Model:                           4                                                  \n",
       "Covariance Type:            nonrobust                                                  \n",
       "==============================================================================\n",
       "                 coef    std err          t      P>|t|      [0.025      0.975]\n",
       "------------------------------------------------------------------------------\n",
       "x1             1.3705      0.125     10.955      0.000       1.125       1.616\n",
       "x2             1.3032      0.135      9.664      0.000       1.039       1.568\n",
       "x3             0.9836      0.117      8.374      0.000       0.753       1.214\n",
       "x4            -1.0759      0.137     -7.875      0.000      -1.344      -0.808\n",
       "==============================================================================\n",
       "Omnibus:                      149.175   Durbin-Watson:                   2.419\n",
       "Prob(Omnibus):                  0.000   Jarque-Bera (JB):              319.816\n",
       "Skew:                           0.889   Prob(JB):                     3.57e-70\n",
       "Kurtosis:                       5.212   Cond. No.                         7.06\n",
       "==============================================================================\n",
       "\n",
       "Notes:\n",
       "[1] R² is computed without centering (uncentered) since the model does not contain a constant.\n",
       "[2] Standard Errors assume that the covariance matrix of the errors is correctly specified.\n",
       "\"\"\""
      ]
     },
     "execution_count": 34,
     "metadata": {},
     "output_type": "execute_result"
    }
   ],
   "source": [
    "model2 = sm.OLS(Y2, X2).fit()\n",
    "\n",
    "model2.summary()"
   ]
  },
  {
   "cell_type": "markdown",
   "id": "29b0b0a6",
   "metadata": {},
   "source": [
    "### Polynomial Regression"
   ]
  },
  {
   "cell_type": "code",
   "execution_count": 35,
   "id": "9665adbf",
   "metadata": {},
   "outputs": [],
   "source": [
    "from sklearn.preprocessing import PolynomialFeatures"
   ]
  },
  {
   "cell_type": "code",
   "execution_count": 36,
   "id": "85c448d4",
   "metadata": {},
   "outputs": [],
   "source": [
    "def build_and_eval_poly(df,target,degree=2,test_size=0.3):\n",
    "    \n",
    "    x_train,x_test,y_train,y_test = train_test_split(df.drop(target,axis=1),df[target],test_size=0.3)\n",
    "\n",
    "    poly = PolynomialFeatures(degree=2)\n",
    "    x_train_poly,x_test_poly = poly.fit_transform(x_train),poly.fit_transform(x_test)\n",
    "\n",
    "    linear_reg = linear_model(x_train_poly,y_train)\n",
    "\n",
    "    score = linear_reg.score(x_train_poly, y_train)\n",
    "    print(\"Training Score : \", score)\n",
    "\n",
    "    y_pred = linear_reg.predict(x_test_poly)\n",
    "\n",
    "    r_score = r2_score(y_test, y_pred)\n",
    "    print(\"Testing Score : \", r_score)\n",
    "\n",
    "    plt.figure(figsize=(5,5))\n",
    "    plt.scatter(y_test,y_pred)\n",
    "    plt.xlabel('actual')\n",
    "    plt.ylabel('predicted')\n",
    "    plt.title('Actual vs Predicted')\n",
    "    \n",
    "    return {'model' : linear_reg, \n",
    "            'x_train' : x_train, 'x_test' : x_test,\n",
    "            'y_train' : y_train, 'y_test' : y_test, \n",
    "            'y_pred' : y_pred\n",
    "           }"
   ]
  },
  {
   "cell_type": "code",
   "execution_count": 37,
   "id": "df89ad28",
   "metadata": {},
   "outputs": [
    {
     "name": "stdout",
     "output_type": "stream",
     "text": [
      "Linear Regression \n",
      "Training Score :  0.7148929500320671\n",
      "Testing Score :  0.7190078518892324\n"
     ]
    },
    {
     "data": {
      "image/png": "[encoded data removed]",
      "text/plain": [
       "<Figure size 360x360 with 1 Axes>"
      ]
     },
     "metadata": {
      "needs_background": "light"
     },
     "output_type": "display_data"
    }
   ],
   "source": [
    "lin_model = build_and_eval_poly(df1,'Power dissipation (W)',2,0.3)"
   ]
  },
  {
   "cell_type": "code",
   "execution_count": 38,
   "id": "2c7cbe9d",
   "metadata": {},
   "outputs": [
    {
     "name": "stdout",
     "output_type": "stream",
     "text": [
      "Linear Regression \n",
      "Training Score :  0.28623890701709753\n",
      "Testing Score :  0.21648097755689266\n"
     ]
    },
    {
     "data": {
      "image/png": "[encoded data removed]",
      "text/plain": [
       "<Figure size 360x360 with 1 Axes>"
      ]
     },
     "metadata": {
      "needs_background": "light"
     },
     "output_type": "display_data"
    }
   ],
   "source": [
    "lin_model1 = build_and_eval_poly(df2,'Delay (s)',2,0.3)"
   ]
  },
  {
   "cell_type": "code",
   "execution_count": null,
   "id": "84d28aae",
   "metadata": {},
   "outputs": [],
   "source": []
  }
 ],
 "metadata": {
  "kernelspec": {
   "display_name": "Python 3 (ipykernel)",
   "language": "python",
   "name": "python3"
  },
  "language_info": {
   "codemirror_mode": {
    "name": "ipython",
    "version": 3
   },
   "file_extension": ".py",
   "mimetype": "text/x-python",
   "name": "python",
   "nbconvert_exporter": "python",
   "pygments_lexer": "ipython3",
   "version": "3.9.6"
  }
 },
 "nbformat": 4,
 "nbformat_minor": 5
}
