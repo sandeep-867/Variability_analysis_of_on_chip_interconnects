{
 "cells": [
  {
   "cell_type": "code",
   "execution_count": 1,
   "id": "1f20a44a",
   "metadata": {},
   "outputs": [],
   "source": [
    "import pandas as pd"
   ]
  },
  {
   "cell_type": "code",
   "execution_count": 2,
   "id": "dd087651",
   "metadata": {},
   "outputs": [],
   "source": [
    "df=pd.read_excel('processed_dataset.xlsx')"
   ]
  },
  {
   "cell_type": "code",
   "execution_count": 3,
   "id": "2d9d27f2",
   "metadata": {
    "scrolled": false
   },
   "outputs": [
    {
     "data": {
      "text/html": [
       "<div>\n",
       "<style scoped>\n",
       "    .dataframe tbody tr th:only-of-type {\n",
       "        vertical-align: middle;\n",
       "    }\n",
       "\n",
       "    .dataframe tbody tr th {\n",
       "        vertical-align: top;\n",
       "    }\n",
       "\n",
       "    .dataframe thead th {\n",
       "        text-align: right;\n",
       "    }\n",
       "</style>\n",
       "<table border=\"1\" class=\"dataframe\">\n",
       "  <thead>\n",
       "    <tr style=\"text-align: right;\">\n",
       "      <th></th>\n",
       "      <th>Vth</th>\n",
       "      <th>Vdd</th>\n",
       "      <th>Leff(nm)</th>\n",
       "      <th>Tox(nm)</th>\n",
       "      <th>Delay(ns)</th>\n",
       "      <th>Power dissipation(uW)</th>\n",
       "    </tr>\n",
       "  </thead>\n",
       "  <tbody>\n",
       "    <tr>\n",
       "      <th>0</th>\n",
       "      <td>0.54059</td>\n",
       "      <td>0.75903</td>\n",
       "      <td>2.76</td>\n",
       "      <td>1.51</td>\n",
       "      <td>1.920</td>\n",
       "      <td>18.100</td>\n",
       "    </tr>\n",
       "    <tr>\n",
       "      <th>1</th>\n",
       "      <td>0.47624</td>\n",
       "      <td>0.76943</td>\n",
       "      <td>2.39</td>\n",
       "      <td>1.59</td>\n",
       "      <td>1.480</td>\n",
       "      <td>17.900</td>\n",
       "    </tr>\n",
       "    <tr>\n",
       "      <th>2</th>\n",
       "      <td>0.38132</td>\n",
       "      <td>0.83163</td>\n",
       "      <td>2.98</td>\n",
       "      <td>1.54</td>\n",
       "      <td>1.180</td>\n",
       "      <td>22.700</td>\n",
       "    </tr>\n",
       "    <tr>\n",
       "      <th>3</th>\n",
       "      <td>0.52081</td>\n",
       "      <td>0.84360</td>\n",
       "      <td>2.40</td>\n",
       "      <td>1.58</td>\n",
       "      <td>1.510</td>\n",
       "      <td>22.200</td>\n",
       "    </tr>\n",
       "    <tr>\n",
       "      <th>4</th>\n",
       "      <td>0.44354</td>\n",
       "      <td>0.74524</td>\n",
       "      <td>3.55</td>\n",
       "      <td>1.63</td>\n",
       "      <td>2.540</td>\n",
       "      <td>11.600</td>\n",
       "    </tr>\n",
       "    <tr>\n",
       "      <th>...</th>\n",
       "      <td>...</td>\n",
       "      <td>...</td>\n",
       "      <td>...</td>\n",
       "      <td>...</td>\n",
       "      <td>...</td>\n",
       "      <td>...</td>\n",
       "    </tr>\n",
       "    <tr>\n",
       "      <th>948</th>\n",
       "      <td>0.49122</td>\n",
       "      <td>0.88610</td>\n",
       "      <td>3.21</td>\n",
       "      <td>1.72</td>\n",
       "      <td>0.986</td>\n",
       "      <td>28.000</td>\n",
       "    </tr>\n",
       "    <tr>\n",
       "      <th>949</th>\n",
       "      <td>0.53629</td>\n",
       "      <td>0.92526</td>\n",
       "      <td>2.79</td>\n",
       "      <td>1.50</td>\n",
       "      <td>1.310</td>\n",
       "      <td>30.900</td>\n",
       "    </tr>\n",
       "    <tr>\n",
       "      <th>950</th>\n",
       "      <td>0.53583</td>\n",
       "      <td>1.23340</td>\n",
       "      <td>2.61</td>\n",
       "      <td>1.59</td>\n",
       "      <td>0.022</td>\n",
       "      <td>107.421</td>\n",
       "    </tr>\n",
       "    <tr>\n",
       "      <th>951</th>\n",
       "      <td>0.37867</td>\n",
       "      <td>1.00740</td>\n",
       "      <td>2.33</td>\n",
       "      <td>1.62</td>\n",
       "      <td>2.580</td>\n",
       "      <td>39.100</td>\n",
       "    </tr>\n",
       "    <tr>\n",
       "      <th>952</th>\n",
       "      <td>0.43824</td>\n",
       "      <td>0.97966</td>\n",
       "      <td>2.90</td>\n",
       "      <td>1.77</td>\n",
       "      <td>1.120</td>\n",
       "      <td>44.600</td>\n",
       "    </tr>\n",
       "  </tbody>\n",
       "</table>\n",
       "<p>953 rows × 6 columns</p>\n",
       "</div>"
      ],
      "text/plain": [
       "         Vth      Vdd  Leff(nm)  Tox(nm)  Delay(ns)  Power dissipation(uW)\n",
       "0    0.54059  0.75903      2.76     1.51      1.920                 18.100\n",
       "1    0.47624  0.76943      2.39     1.59      1.480                 17.900\n",
       "2    0.38132  0.83163      2.98     1.54      1.180                 22.700\n",
       "3    0.52081  0.84360      2.40     1.58      1.510                 22.200\n",
       "4    0.44354  0.74524      3.55     1.63      2.540                 11.600\n",
       "..       ...      ...       ...      ...        ...                    ...\n",
       "948  0.49122  0.88610      3.21     1.72      0.986                 28.000\n",
       "949  0.53629  0.92526      2.79     1.50      1.310                 30.900\n",
       "950  0.53583  1.23340      2.61     1.59      0.022                107.421\n",
       "951  0.37867  1.00740      2.33     1.62      2.580                 39.100\n",
       "952  0.43824  0.97966      2.90     1.77      1.120                 44.600\n",
       "\n",
       "[953 rows x 6 columns]"
      ]
     },
     "execution_count": 3,
     "metadata": {},
     "output_type": "execute_result"
    }
   ],
   "source": [
    "df"
   ]
  },
  {
   "cell_type": "code",
   "execution_count": null,
   "id": "762466ad",
   "metadata": {},
   "outputs": [],
   "source": [
    "df=df[['Leff(nm)','Vth', 'Tox(nm)', 'Vdd','Power dissipation(uW)', 'Delay(ns)']]"
   ]
  },
  {
   "cell_type": "code",
   "execution_count": null,
   "id": "0d86e7e6",
   "metadata": {},
   "outputs": [],
   "source": [
    "df.columns=['Leff', 'Vth', 'Tox', 'Vdd','Power dissipation (W)', 'Delay (s)']"
   ]
  },
  {
   "cell_type": "code",
   "execution_count": null,
   "id": "b52c96e0",
   "metadata": {},
   "outputs": [],
   "source": [
    "df.to_csv('data.csv',index=False)"
   ]
  },
  {
   "cell_type": "code",
   "execution_count": 4,
   "id": "84337d04",
   "metadata": {},
   "outputs": [],
   "source": [
    "df=pd.read_excel('scaled_dataset.xlsx')"
   ]
  },
  {
   "cell_type": "code",
   "execution_count": 5,
   "id": "2616aaf0",
   "metadata": {},
   "outputs": [],
   "source": [
    "df=df[['Leff(nm)','Vth', 'Tox(nm)', 'Vdd','Power dissipation(uW)', 'Delay(ns)']]"
   ]
  },
  {
   "cell_type": "code",
   "execution_count": 6,
   "id": "a82e77b5",
   "metadata": {},
   "outputs": [],
   "source": [
    "df.columns=['Leff', 'Vth', 'Tox', 'Vdd','Power dissipation (W)', 'Delay (s)']"
   ]
  },
  {
   "cell_type": "code",
   "execution_count": 7,
   "id": "ccd1fea1",
   "metadata": {},
   "outputs": [],
   "source": [
    "df_x = df[list(df.columns)[:-2]]"
   ]
  },
  {
   "cell_type": "code",
   "execution_count": 8,
   "id": "17f1e682",
   "metadata": {},
   "outputs": [],
   "source": [
    "df_y = df[list(df.columns)[-2:]]"
   ]
  },
  {
   "cell_type": "code",
   "execution_count": 13,
   "id": "50e996e6",
   "metadata": {},
   "outputs": [],
   "source": [
    "from sklearn.model_selection import train_test_split\n",
    "train_x,test_x,train_y,test_y=train_test_split(df_x,df_y,test_size=0.2)"
   ]
  },
  {
   "cell_type": "code",
   "execution_count": 15,
   "id": "a127a1c5",
   "metadata": {},
   "outputs": [],
   "source": [
    "result_train = pd.concat([train_x, train_y], axis=1, join='inner')"
   ]
  },
  {
   "cell_type": "code",
   "execution_count": 16,
   "id": "50539621",
   "metadata": {},
   "outputs": [],
   "source": [
    "result_test = pd.concat([test_x, test_y], axis=1, join='inner')"
   ]
  },
  {
   "cell_type": "code",
   "execution_count": 17,
   "id": "655ce555",
   "metadata": {},
   "outputs": [],
   "source": [
    "result_train.to_csv('training_data_scaled.csv',index=False)"
   ]
  },
  {
   "cell_type": "code",
   "execution_count": 18,
   "id": "3f0433bc",
   "metadata": {},
   "outputs": [],
   "source": [
    "result_test.to_csv('testing_data_scaled.csv',index=False)"
   ]
  },
  {
   "cell_type": "code",
   "execution_count": null,
   "id": "c9b42592",
   "metadata": {},
   "outputs": [],
   "source": []
  },
  {
   "cell_type": "code",
   "execution_count": null,
   "id": "b8b607ab",
   "metadata": {},
   "outputs": [],
   "source": [
    "df.to_csv('scaled_data.csv',index=False)"
   ]
  },
  {
   "cell_type": "code",
   "execution_count": null,
   "id": "edbd8ccc",
   "metadata": {},
   "outputs": [],
   "source": []
  }
 ],
 "metadata": {
  "kernelspec": {
   "display_name": "Python 3 (ipykernel)",
   "language": "python",
   "name": "python3"
  },
  "language_info": {
   "codemirror_mode": {
    "name": "ipython",
    "version": 3
   },
   "file_extension": ".py",
   "mimetype": "text/x-python",
   "name": "python",
   "nbconvert_exporter": "python",
   "pygments_lexer": "ipython3",
   "version": "3.9.6"
  }
 },
 "nbformat": 4,
 "nbformat_minor": 5
}
